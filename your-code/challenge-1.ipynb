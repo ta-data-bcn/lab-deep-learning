{
 "cells": [
  {
   "cell_type": "code",
   "execution_count": 2,
   "metadata": {},
   "outputs": [
    {
     "name": "stdout",
     "output_type": "stream",
     "text": [
      "Collecting tensorflow\n",
      "  Downloading tensorflow-2.2.0-cp37-cp37m-macosx_10_11_x86_64.whl (175.3 MB)\n",
      "\u001b[K     |████████████████████████████████| 175.3 MB 40 kB/s s eta 0:00:01  |▍                               | 2.1 MB 2.8 MB/s eta 0:01:02     |███▌                            | 19.2 MB 9.2 MB/s eta 0:00:18     |█████▎                          | 29.1 MB 9.2 MB/s eta 0:00:16     |█████████▋                      | 52.6 MB 32.6 MB/s eta 0:00:04     |█████████████████████▌          | 118.1 MB 46.9 MB/s eta 0:00:02     |████████████████████████████▉   | 158.0 MB 42.1 MB/s eta 0:00:01\n",
      "\u001b[?25hCollecting h5py<2.11.0,>=2.10.0\n",
      "  Downloading h5py-2.10.0-cp37-cp37m-macosx_10_6_intel.whl (3.0 MB)\n",
      "\u001b[K     |████████████████████████████████| 3.0 MB 18.1 MB/s eta 0:00:01\n",
      "\u001b[?25hCollecting tensorflow-estimator<2.3.0,>=2.2.0\n",
      "  Downloading tensorflow_estimator-2.2.0-py2.py3-none-any.whl (454 kB)\n",
      "\u001b[K     |████████████████████████████████| 454 kB 24.8 MB/s eta 0:00:01\n",
      "\u001b[?25hCollecting absl-py>=0.7.0\n",
      "  Downloading absl-py-0.9.0.tar.gz (104 kB)\n",
      "\u001b[K     |████████████████████████████████| 104 kB 18.2 MB/s eta 0:00:01\n",
      "\u001b[?25hRequirement already satisfied: scipy==1.4.1; python_version >= \"3\" in /usr/local/Cellar/jupyterlab/2.0.1/libexec/lib/python3.7/site-packages (from tensorflow) (1.4.1)\n",
      "Collecting keras-preprocessing>=1.1.0\n",
      "  Downloading Keras_Preprocessing-1.1.2-py2.py3-none-any.whl (42 kB)\n",
      "\u001b[K     |████████████████████████████████| 42 kB 2.4 MB/s  eta 0:00:01\n",
      "\u001b[?25hCollecting termcolor>=1.1.0\n",
      "  Downloading termcolor-1.1.0.tar.gz (3.9 kB)\n",
      "Requirement already satisfied: numpy<2.0,>=1.16.0 in /usr/local/Cellar/jupyterlab/2.0.1/libexec/lib/python3.7/site-packages (from tensorflow) (1.18.2)\n",
      "Collecting tensorboard<2.3.0,>=2.2.0\n",
      "  Downloading tensorboard-2.2.1-py3-none-any.whl (3.0 MB)\n",
      "\u001b[K     |████████████████████████████████| 3.0 MB 32.5 MB/s eta 0:00:01\n",
      "\u001b[?25hCollecting google-pasta>=0.1.8\n",
      "  Downloading google_pasta-0.2.0-py3-none-any.whl (57 kB)\n",
      "\u001b[K     |████████████████████████████████| 57 kB 8.0 MB/s  eta 0:00:01\n",
      "\u001b[?25hCollecting grpcio>=1.8.6\n",
      "  Downloading grpcio-1.29.0-cp37-cp37m-macosx_10_9_x86_64.whl (2.8 MB)\n",
      "\u001b[K     |████████████████████████████████| 2.8 MB 20.8 MB/s eta 0:00:01\n",
      "\u001b[?25hRequirement already satisfied: wheel>=0.26; python_version >= \"3\" in /usr/local/Cellar/jupyterlab/2.0.1/libexec/lib/python3.7/site-packages (from tensorflow) (0.34.2)\n",
      "Collecting opt-einsum>=2.3.2\n",
      "  Downloading opt_einsum-3.2.1-py3-none-any.whl (63 kB)\n",
      "\u001b[K     |████████████████████████████████| 63 kB 4.1 MB/s  eta 0:00:01\n",
      "\u001b[?25hCollecting gast==0.3.3\n",
      "  Downloading gast-0.3.3-py2.py3-none-any.whl (9.7 kB)\n",
      "Collecting wrapt>=1.11.1\n",
      "  Downloading wrapt-1.12.1.tar.gz (27 kB)\n",
      "Requirement already satisfied: six>=1.12.0 in /usr/local/Cellar/jupyterlab/2.0.1/libexec/lib/python3.7/site-packages (from tensorflow) (1.14.0)\n",
      "Collecting astunparse==1.6.3\n",
      "  Downloading astunparse-1.6.3-py2.py3-none-any.whl (12 kB)\n",
      "Collecting protobuf>=3.8.0\n",
      "  Downloading protobuf-3.12.1-cp37-cp37m-macosx_10_9_x86_64.whl (1.3 MB)\n",
      "\u001b[K     |████████████████████████████████| 1.3 MB 20.1 MB/s eta 0:00:01\n",
      "\u001b[?25hCollecting google-auth-oauthlib<0.5,>=0.4.1\n",
      "  Downloading google_auth_oauthlib-0.4.1-py2.py3-none-any.whl (18 kB)\n",
      "Collecting werkzeug>=0.11.15\n",
      "  Downloading Werkzeug-1.0.1-py2.py3-none-any.whl (298 kB)\n",
      "\u001b[K     |████████████████████████████████| 298 kB 2.8 MB/s eta 0:00:01\n",
      "\u001b[?25hCollecting google-auth<2,>=1.6.3\n",
      "  Downloading google_auth-1.15.0-py2.py3-none-any.whl (89 kB)\n",
      "\u001b[K     |████████████████████████████████| 89 kB 14.7 MB/s eta 0:00:01\n",
      "\u001b[?25hCollecting tensorboard-plugin-wit>=1.6.0\n",
      "  Downloading tensorboard_plugin_wit-1.6.0.post3-py3-none-any.whl (777 kB)\n",
      "\u001b[K     |████████████████████████████████| 777 kB 10.8 MB/s eta 0:00:01\n",
      "\u001b[?25hRequirement already satisfied: requests<3,>=2.21.0 in /usr/local/Cellar/jupyterlab/2.0.1/libexec/lib/python3.7/site-packages (from tensorboard<2.3.0,>=2.2.0->tensorflow) (2.23.0)\n",
      "Collecting markdown>=2.6.8\n",
      "  Downloading Markdown-3.2.2-py3-none-any.whl (88 kB)\n",
      "\u001b[K     |████████████████████████████████| 88 kB 14.4 MB/s eta 0:00:01\n",
      "\u001b[?25hRequirement already satisfied: setuptools>=41.0.0 in /usr/local/Cellar/jupyterlab/2.0.1/libexec/lib/python3.7/site-packages (from tensorboard<2.3.0,>=2.2.0->tensorflow) (45.2.0)\n",
      "Collecting requests-oauthlib>=0.7.0\n",
      "  Downloading requests_oauthlib-1.3.0-py2.py3-none-any.whl (23 kB)\n",
      "Collecting cachetools<5.0,>=2.0.0\n",
      "  Downloading cachetools-4.1.0-py3-none-any.whl (10 kB)\n",
      "Collecting rsa<4.1,>=3.1.4\n",
      "  Downloading rsa-4.0-py2.py3-none-any.whl (38 kB)\n",
      "Collecting pyasn1-modules>=0.2.1\n",
      "  Downloading pyasn1_modules-0.2.8-py2.py3-none-any.whl (155 kB)\n",
      "\u001b[K     |████████████████████████████████| 155 kB 17.1 MB/s eta 0:00:01\n",
      "\u001b[?25hRequirement already satisfied: idna<3,>=2.5 in /usr/local/Cellar/jupyterlab/2.0.1/libexec/lib/python3.7/site-packages (from requests<3,>=2.21.0->tensorboard<2.3.0,>=2.2.0->tensorflow) (2.9)\n",
      "Requirement already satisfied: urllib3!=1.25.0,!=1.25.1,<1.26,>=1.21.1 in /usr/local/Cellar/jupyterlab/2.0.1/libexec/lib/python3.7/site-packages (from requests<3,>=2.21.0->tensorboard<2.3.0,>=2.2.0->tensorflow) (1.25.8)\n",
      "Requirement already satisfied: chardet<4,>=3.0.2 in /usr/local/Cellar/jupyterlab/2.0.1/libexec/lib/python3.7/site-packages (from requests<3,>=2.21.0->tensorboard<2.3.0,>=2.2.0->tensorflow) (3.0.4)\n",
      "Requirement already satisfied: certifi>=2017.4.17 in /usr/local/Cellar/jupyterlab/2.0.1/libexec/lib/python3.7/site-packages (from requests<3,>=2.21.0->tensorboard<2.3.0,>=2.2.0->tensorflow) (2020.4.5.1)\n",
      "Requirement already satisfied: importlib-metadata; python_version < \"3.8\" in /usr/local/Cellar/jupyterlab/2.0.1/libexec/lib/python3.7/site-packages (from markdown>=2.6.8->tensorboard<2.3.0,>=2.2.0->tensorflow) (1.5.0)\n",
      "Collecting oauthlib>=3.0.0\n",
      "  Downloading oauthlib-3.1.0-py2.py3-none-any.whl (147 kB)\n",
      "\u001b[K     |████████████████████████████████| 147 kB 19.1 MB/s eta 0:00:01\n",
      "\u001b[?25hCollecting pyasn1>=0.1.3\n",
      "  Downloading pyasn1-0.4.8-py2.py3-none-any.whl (77 kB)\n",
      "\u001b[K     |████████████████████████████████| 77 kB 6.5 MB/s  eta 0:00:01\n",
      "\u001b[?25hRequirement already satisfied: zipp>=0.5 in /usr/local/Cellar/jupyterlab/2.0.1/libexec/lib/python3.7/site-packages (from importlib-metadata; python_version < \"3.8\"->markdown>=2.6.8->tensorboard<2.3.0,>=2.2.0->tensorflow) (3.1.0)\n",
      "Building wheels for collected packages: absl-py, termcolor, wrapt\n",
      "  Building wheel for absl-py (setup.py) ... \u001b[?25ldone\n",
      "\u001b[?25h  Created wheel for absl-py: filename=absl_py-0.9.0-py3-none-any.whl size=121931 sha256=85977722d31f521c8dde22c4d68d3ca48470abe3b76584d42a52fa00ca8a6e3f\n",
      "  Stored in directory: /Users/francesco/Library/Caches/pip/wheels/cc/af/1a/498a24d0730ef484019e007bb9e8cef3ac00311a672c049a3e\n",
      "  Building wheel for termcolor (setup.py) ... \u001b[?25ldone\n",
      "\u001b[?25h  Created wheel for termcolor: filename=termcolor-1.1.0-py3-none-any.whl size=4830 sha256=b20224abc8b1daa4ad2225598875f8b2067eb7369b1408415785e910f7c672fd\n",
      "  Stored in directory: /Users/francesco/Library/Caches/pip/wheels/3f/e3/ec/8a8336ff196023622fbcb36de0c5a5c218cbb24111d1d4c7f2\n",
      "  Building wheel for wrapt (setup.py) ... \u001b[?25ldone\n",
      "\u001b[?25h  Created wheel for wrapt: filename=wrapt-1.12.1-cp37-cp37m-macosx_10_14_x86_64.whl size=32425 sha256=966796e51a030ea807798cc95729a0d80ffd41807c685756be1f21f55632cc29\n",
      "  Stored in directory: /Users/francesco/Library/Caches/pip/wheels/62/76/4c/aa25851149f3f6d9785f6c869387ad82b3fd37582fa8147ac6\n",
      "Successfully built absl-py termcolor wrapt\n",
      "Installing collected packages: h5py, tensorflow-estimator, absl-py, keras-preprocessing, termcolor, protobuf, oauthlib, requests-oauthlib, cachetools, pyasn1, rsa, pyasn1-modules, google-auth, google-auth-oauthlib, werkzeug, grpcio, tensorboard-plugin-wit, markdown, tensorboard, google-pasta, opt-einsum, gast, wrapt, astunparse, tensorflow\n",
      "Successfully installed absl-py-0.9.0 astunparse-1.6.3 cachetools-4.1.0 gast-0.3.3 google-auth-1.15.0 google-auth-oauthlib-0.4.1 google-pasta-0.2.0 grpcio-1.29.0 h5py-2.10.0 keras-preprocessing-1.1.2 markdown-3.2.2 oauthlib-3.1.0 opt-einsum-3.2.1 protobuf-3.12.1 pyasn1-0.4.8 pyasn1-modules-0.2.8 requests-oauthlib-1.3.0 rsa-4.0 tensorboard-2.2.1 tensorboard-plugin-wit-1.6.0.post3 tensorflow-2.2.0 tensorflow-estimator-2.2.0 termcolor-1.1.0 werkzeug-1.0.1 wrapt-1.12.1\n"
     ]
    },
    {
     "name": "stdout",
     "output_type": "stream",
     "text": [
      "\u001b[33mWARNING: You are using pip version 20.0.2; however, version 20.1.1 is available.\r\n",
      "You should consider upgrading via the '/usr/local/Cellar/jupyterlab/2.0.1/libexec/bin/python3.7 -m pip install --upgrade pip' command.\u001b[0m\r\n"
     ]
    }
   ],
   "source": [
    "import sys\n",
    "!{sys.executable} -m pip install tensorflow\n",
    "import tensorflow as tf\n",
    "import pandas as pd\n",
    "import numpy as np\n",
    "from sklearn.preprocessing import LabelEncoder\n",
    "from sklearn.model_selection import train_test_split\n",
    "from sklearn.preprocessing import Normalizer\n"
   ]
  },
  {
   "cell_type": "markdown",
   "metadata": {},
   "source": [
    "# Challenge 1 - Tic Tac Toe\n",
    "\n",
    "In this lab you will perform deep learning analysis on a dataset of playing [Tic Tac Toe](https://en.wikipedia.org/wiki/Tic-tac-toe).\n",
    "\n",
    "There are 9 grids in Tic Tac Toe that are coded as the following picture shows:\n",
    "\n",
    "![Tic Tac Toe Grids](../images/tttboard.jpg)\n",
    "\n",
    "In the first 9 columns of the dataset you can find which marks (`x` or `o`) exist in the grids. If there is no mark in a certain grid, it is labeled as `b`. The last column is `class` which tells you whether Player X (who always moves first in Tic Tac Toe) wins in this configuration. Note that when `class` has the value `False`, it means either Player O wins the game or it ends up as a draw."
   ]
  },
  {
   "cell_type": "markdown",
   "metadata": {},
   "source": [
    "Follow the steps suggested below to conduct a neural network analysis using Tensorflow and Keras. You will build a deep learning model to predict whether Player X wins the game or not.\n",
    "\n",
    "## Step 1: Data Engineering\n",
    "\n",
    "This dataset is almost in the ready-to-use state so you do not need to worry about missing values and so on. Still, some simple data engineering is needed.\n",
    "\n",
    "1. Read `tic-tac-toe.csv` into a dataframe.\n",
    "1. Inspect the dataset. Determine if the dataset is reliable by eyeballing the data.\n",
    "1. Convert the categorical values to numeric in all columns.\n",
    "1. Separate the inputs and output.\n",
    "1. Normalize the input data."
   ]
  },
  {
   "cell_type": "code",
   "execution_count": 5,
   "metadata": {},
   "outputs": [
    {
     "data": {
      "text/html": [
       "<div>\n",
       "<style scoped>\n",
       "    .dataframe tbody tr th:only-of-type {\n",
       "        vertical-align: middle;\n",
       "    }\n",
       "\n",
       "    .dataframe tbody tr th {\n",
       "        vertical-align: top;\n",
       "    }\n",
       "\n",
       "    .dataframe thead th {\n",
       "        text-align: right;\n",
       "    }\n",
       "</style>\n",
       "<table border=\"1\" class=\"dataframe\">\n",
       "  <thead>\n",
       "    <tr style=\"text-align: right;\">\n",
       "      <th></th>\n",
       "      <th>TL</th>\n",
       "      <th>TM</th>\n",
       "      <th>TR</th>\n",
       "      <th>ML</th>\n",
       "      <th>MM</th>\n",
       "      <th>MR</th>\n",
       "      <th>BL</th>\n",
       "      <th>BM</th>\n",
       "      <th>BR</th>\n",
       "      <th>class</th>\n",
       "    </tr>\n",
       "  </thead>\n",
       "  <tbody>\n",
       "    <tr>\n",
       "      <th>0</th>\n",
       "      <td>x</td>\n",
       "      <td>x</td>\n",
       "      <td>x</td>\n",
       "      <td>x</td>\n",
       "      <td>o</td>\n",
       "      <td>o</td>\n",
       "      <td>x</td>\n",
       "      <td>o</td>\n",
       "      <td>o</td>\n",
       "      <td>True</td>\n",
       "    </tr>\n",
       "    <tr>\n",
       "      <th>1</th>\n",
       "      <td>x</td>\n",
       "      <td>x</td>\n",
       "      <td>x</td>\n",
       "      <td>x</td>\n",
       "      <td>o</td>\n",
       "      <td>o</td>\n",
       "      <td>o</td>\n",
       "      <td>x</td>\n",
       "      <td>o</td>\n",
       "      <td>True</td>\n",
       "    </tr>\n",
       "    <tr>\n",
       "      <th>2</th>\n",
       "      <td>x</td>\n",
       "      <td>x</td>\n",
       "      <td>x</td>\n",
       "      <td>x</td>\n",
       "      <td>o</td>\n",
       "      <td>o</td>\n",
       "      <td>o</td>\n",
       "      <td>o</td>\n",
       "      <td>x</td>\n",
       "      <td>True</td>\n",
       "    </tr>\n",
       "    <tr>\n",
       "      <th>3</th>\n",
       "      <td>x</td>\n",
       "      <td>x</td>\n",
       "      <td>x</td>\n",
       "      <td>x</td>\n",
       "      <td>o</td>\n",
       "      <td>o</td>\n",
       "      <td>o</td>\n",
       "      <td>b</td>\n",
       "      <td>b</td>\n",
       "      <td>True</td>\n",
       "    </tr>\n",
       "    <tr>\n",
       "      <th>4</th>\n",
       "      <td>x</td>\n",
       "      <td>x</td>\n",
       "      <td>x</td>\n",
       "      <td>x</td>\n",
       "      <td>o</td>\n",
       "      <td>o</td>\n",
       "      <td>b</td>\n",
       "      <td>o</td>\n",
       "      <td>b</td>\n",
       "      <td>True</td>\n",
       "    </tr>\n",
       "  </tbody>\n",
       "</table>\n",
       "</div>"
      ],
      "text/plain": [
       "  TL TM TR ML MM MR BL BM BR  class\n",
       "0  x  x  x  x  o  o  x  o  o   True\n",
       "1  x  x  x  x  o  o  o  x  o   True\n",
       "2  x  x  x  x  o  o  o  o  x   True\n",
       "3  x  x  x  x  o  o  o  b  b   True\n",
       "4  x  x  x  x  o  o  b  o  b   True"
      ]
     },
     "execution_count": 5,
     "metadata": {},
     "output_type": "execute_result"
    }
   ],
   "source": [
    "# your code here\n",
    "df = pd.read_csv('../data/tic-tac-toe.csv')\n",
    "df.head()"
   ]
  },
  {
   "cell_type": "code",
   "execution_count": 6,
   "metadata": {},
   "outputs": [],
   "source": [
    "le = LabelEncoder()\n",
    "le.fit(df.TL)\n",
    "df.TL = le.transform(df.TL)\n",
    "df.TM = le.transform(df.TM)\n",
    "df.TR = le.transform(df.TR)\n",
    "df.ML = le.transform(df.ML)\n",
    "df.MM = le.transform(df.MM)\n",
    "df.MR = le.transform(df.MR)\n",
    "df.BL = le.transform(df.BL)\n",
    "df.BM = le.transform(df.BM)\n",
    "df.BR = le.transform(df.BR)"
   ]
  },
  {
   "cell_type": "code",
   "execution_count": 7,
   "metadata": {},
   "outputs": [],
   "source": [
    "le.fit(df['class'])\n",
    "df['class'] = le.transform(df['class'])\n",
    "\n",
    "X = df.drop(columns='class')\n",
    "y = df['class']\n",
    "\n",
    "X_train, X_test, y_train, y_test = train_test_split(X, y, test_size=0.05, random_state=42)\n",
    "\n",
    "norm = Normalizer().fit(X_train)\n",
    "X_train_scaled = norm.transform(X_train)"
   ]
  },
  {
   "cell_type": "markdown",
   "metadata": {},
   "source": [
    "## Step 2: Build Neural Network\n",
    "\n",
    "To build the neural network, you can refer to your own codes you wrote while following the [Deep Learning with Python, TensorFlow, and Keras tutorial](https://www.youtube.com/watch?v=wQ8BIBpya2k) in the lesson. It's pretty similar to what you will be doing in this lab.\n",
    "\n",
    "1. Split the training and test data.\n",
    "1. Create a `Sequential` model.\n",
    "1. Add several layers to your model. Make sure you use ReLU as the activation function for the middle layers. Use Softmax for the output layer because each output has a single lable and all the label probabilities add up to 1.\n",
    "1. Compile the model using `adam` as the optimizer and `binary_crossentropy` as the loss function. For metrics, use `accuracy` for now.\n",
    "1. Fit the training data.\n",
    "1. Evaluate your neural network model with the test data.\n",
    "1. Save your model as `tic-tac-toe.model`."
   ]
  },
  {
   "cell_type": "code",
   "execution_count": 18,
   "metadata": {},
   "outputs": [
    {
     "name": "stdout",
     "output_type": "stream",
     "text": [
      "Epoch 1/5\n",
      "29/29 [==============================] - 0s 2ms/step - loss: 0.6377 - accuracy: 0.6538\n",
      "Epoch 2/5\n",
      "29/29 [==============================] - 0s 2ms/step - loss: 0.6048 - accuracy: 0.6923\n",
      "Epoch 3/5\n",
      "29/29 [==============================] - 0s 3ms/step - loss: 0.5764 - accuracy: 0.7319\n",
      "Epoch 4/5\n",
      "29/29 [==============================] - 0s 3ms/step - loss: 0.5525 - accuracy: 0.7308\n",
      "Epoch 5/5\n",
      "29/29 [==============================] - 0s 2ms/step - loss: 0.5256 - accuracy: 0.7648\n"
     ]
    },
    {
     "data": {
      "text/plain": [
       "<tensorflow.python.keras.callbacks.History at 0x13edcb850>"
      ]
     },
     "execution_count": 18,
     "metadata": {},
     "output_type": "execute_result"
    }
   ],
   "source": [
    "#Initializaing model\n",
    "model = tf.keras.models.Sequential()\n",
    "\n",
    "# adding the layers\n",
    "model.add(tf.keras.layers.Flatten())\n",
    "\n",
    "# layers with ReLU\n",
    "model.add(tf.keras.layers.Dense(220, activation=tf.nn.relu))\n",
    "model.add(tf.keras.layers.Dense(220, activation=tf.nn.relu))\n",
    "\n",
    "# 2 classes\n",
    "model.add(tf.keras.layers.Dense(2, activation=tf.nn.softmax))\n",
    "\n",
    "# Compiling\n",
    "model.compile(optimizer = 'adam', loss = 'sparse_categorical_crossentropy', metrics = ['accuracy'])\n",
    "\n",
    "# fitting the training data\n",
    "model.fit(X_train_scaled, y_train, epochs=5)"
   ]
  },
  {
   "cell_type": "code",
   "execution_count": 19,
   "metadata": {},
   "outputs": [
    {
     "name": "stdout",
     "output_type": "stream",
     "text": [
      "INFO:tensorflow:Assets written to: tic-tac-toe.model/assets\n"
     ]
    }
   ],
   "source": [
    "model.save('tic-tac-toe.model')"
   ]
  },
  {
   "cell_type": "markdown",
   "metadata": {},
   "source": [
    "## Step 3: Make Predictions\n",
    "\n",
    "Now load your saved model and use it to make predictions on a few random rows in the test dataset. Check if the predictions are correct."
   ]
  },
  {
   "cell_type": "code",
   "execution_count": 20,
   "metadata": {},
   "outputs": [
    {
     "name": "stdout",
     "output_type": "stream",
     "text": [
      "2/2 [==============================] - 0s 1ms/step - loss: 0.5455 - accuracy: 0.7500\n"
     ]
    }
   ],
   "source": [
    "X_test_scaled = norm.transform(X_test)\n",
    "\n",
    "val_loss, val_acc = model.evaluate(X_test_scaled, y_test)"
   ]
  },
  {
   "cell_type": "code",
   "execution_count": 21,
   "metadata": {},
   "outputs": [
    {
     "name": "stdout",
     "output_type": "stream",
     "text": [
      "_______________________________________________\n",
      "Model prediction probabilities: [[0.059 0.941]]\n",
      "Actual target value: 1\n",
      "_______________________________________________\n",
      "_______________________________________________\n",
      "Model prediction probabilities: [[0.364 0.636]]\n",
      "Actual target value: 1\n",
      "_______________________________________________\n",
      "_______________________________________________\n",
      "Model prediction probabilities: [[0.188 0.812]]\n",
      "Actual target value: 0\n",
      "_______________________________________________\n",
      "_______________________________________________\n",
      "Model prediction probabilities: [[0.473 0.527]]\n",
      "Actual target value: 1\n",
      "_______________________________________________\n",
      "_______________________________________________\n",
      "Model prediction probabilities: [[0.489 0.511]]\n",
      "Actual target value: 1\n",
      "_______________________________________________\n",
      "_______________________________________________\n",
      "Model prediction probabilities: [[0.436 0.564]]\n",
      "Actual target value: 0\n",
      "_______________________________________________\n",
      "_______________________________________________\n",
      "Model prediction probabilities: [[0.196 0.804]]\n",
      "Actual target value: 0\n",
      "_______________________________________________\n",
      "_______________________________________________\n",
      "Model prediction probabilities: [[0.224 0.776]]\n",
      "Actual target value: 1\n",
      "_______________________________________________\n",
      "_______________________________________________\n",
      "Model prediction probabilities: [[0.188 0.812]]\n",
      "Actual target value: 0\n",
      "_______________________________________________\n",
      "_______________________________________________\n",
      "Model prediction probabilities: [[0.07 0.93]]\n",
      "Actual target value: 1\n",
      "_______________________________________________\n"
     ]
    }
   ],
   "source": [
    "# your code here\n",
    "predictor = tf.keras.models.load_model('tic-tac-toe.model')\n",
    "\n",
    "for i in range (10):\n",
    "    idx = np.random.randint(0, len(X_test_scaled))\n",
    "    print('_______________________________________________')\n",
    "    print(f\"Model prediction probabilities: {predictor.predict(X_test_scaled[idx].reshape(1,-1)).round(3)}\")\n",
    "    print(f\"Actual target value: {y_test.iloc[idx]}\")\n",
    "    print('_______________________________________________')"
   ]
  },
  {
   "cell_type": "markdown",
   "metadata": {},
   "source": [
    "## Step 4: Improve Your Model\n",
    "\n",
    "Did your model achieve low loss (<0.1) and high accuracy (>0.95)? If not, try to improve your model.\n",
    "\n",
    "But how? There are so many things you can play with in Tensorflow and in the next challenge you'll learn about these things. But in this challenge, let's just do a few things to see if they will help.\n",
    "\n",
    "* Add more layers to your model. If the data are complex you need more layers. But don't use more layers than you need. If adding more layers does not improve the model performance you don't need additional layers.\n",
    "* Adjust the learning rate when you compile the model. This means you will create a custom `tf.keras.optimizers.Adam` instance where you specify the learning rate you want. Then pass the instance to `model.compile` as the optimizer.\n",
    "    * `tf.keras.optimizers.Adam` [reference](https://www.tensorflow.org/api_docs/python/tf/keras/optimizers/Adam).\n",
    "    * Don't worry if you don't understand what the learning rate does. You'll learn about it in the next challenge.\n",
    "* Adjust the number of epochs when you fit the training data to the model. Your model performance continues to improve as you train more epochs. But eventually it will reach the ceiling and the performance will stay the same."
   ]
  },
  {
   "cell_type": "code",
   "execution_count": 22,
   "metadata": {},
   "outputs": [
    {
     "name": "stdout",
     "output_type": "stream",
     "text": [
      "Epoch 1/42\n",
      "29/29 [==============================] - 0s 6ms/step - loss: 0.6373 - accuracy: 0.6385\n",
      "Epoch 2/42\n",
      "29/29 [==============================] - 0s 6ms/step - loss: 0.6048 - accuracy: 0.6681\n",
      "Epoch 3/42\n",
      "29/29 [==============================] - 0s 7ms/step - loss: 0.5648 - accuracy: 0.7154\n",
      "Epoch 4/42\n",
      "29/29 [==============================] - 0s 6ms/step - loss: 0.4904 - accuracy: 0.7747\n",
      "Epoch 5/42\n",
      "29/29 [==============================] - 0s 6ms/step - loss: 0.5060 - accuracy: 0.7473\n",
      "Epoch 6/42\n",
      "29/29 [==============================] - 0s 6ms/step - loss: 0.3986 - accuracy: 0.8319\n",
      "Epoch 7/42\n",
      "29/29 [==============================] - 0s 6ms/step - loss: 0.3297 - accuracy: 0.8604\n",
      "Epoch 8/42\n",
      "29/29 [==============================] - 0s 6ms/step - loss: 0.3126 - accuracy: 0.8747\n",
      "Epoch 9/42\n",
      "29/29 [==============================] - 0s 6ms/step - loss: 0.2656 - accuracy: 0.8857\n",
      "Epoch 10/42\n",
      "29/29 [==============================] - 0s 6ms/step - loss: 0.2340 - accuracy: 0.8967\n",
      "Epoch 11/42\n",
      "29/29 [==============================] - 0s 6ms/step - loss: 0.2357 - accuracy: 0.8989\n",
      "Epoch 12/42\n",
      "29/29 [==============================] - 0s 6ms/step - loss: 0.2279 - accuracy: 0.9033\n",
      "Epoch 13/42\n",
      "29/29 [==============================] - 0s 7ms/step - loss: 0.1267 - accuracy: 0.9484\n",
      "Epoch 14/42\n",
      "29/29 [==============================] - 0s 7ms/step - loss: 0.1701 - accuracy: 0.9385\n",
      "Epoch 15/42\n",
      "29/29 [==============================] - 0s 7ms/step - loss: 0.0846 - accuracy: 0.9659\n",
      "Epoch 16/42\n",
      "29/29 [==============================] - 0s 6ms/step - loss: 0.1256 - accuracy: 0.9527\n",
      "Epoch 17/42\n",
      "29/29 [==============================] - 0s 9ms/step - loss: 0.1572 - accuracy: 0.9385\n",
      "Epoch 18/42\n",
      "29/29 [==============================] - 0s 7ms/step - loss: 0.1149 - accuracy: 0.9495\n",
      "Epoch 19/42\n",
      "29/29 [==============================] - 0s 8ms/step - loss: 0.0375 - accuracy: 0.9813\n",
      "Epoch 20/42\n",
      "29/29 [==============================] - 0s 7ms/step - loss: 0.0977 - accuracy: 0.9714\n",
      "Epoch 21/42\n",
      "29/29 [==============================] - 0s 6ms/step - loss: 0.0947 - accuracy: 0.9681\n",
      "Epoch 22/42\n",
      "29/29 [==============================] - 0s 7ms/step - loss: 0.0928 - accuracy: 0.9703\n",
      "Epoch 23/42\n",
      "29/29 [==============================] - 0s 7ms/step - loss: 0.1331 - accuracy: 0.9527\n",
      "Epoch 24/42\n",
      "29/29 [==============================] - 0s 7ms/step - loss: 0.0321 - accuracy: 0.9901\n",
      "Epoch 25/42\n",
      "29/29 [==============================] - 0s 6ms/step - loss: 0.0287 - accuracy: 0.9912\n",
      "Epoch 26/42\n",
      "29/29 [==============================] - 0s 6ms/step - loss: 0.0202 - accuracy: 0.9901\n",
      "Epoch 27/42\n",
      "29/29 [==============================] - ETA: 0s - loss: 0.0615 - accuracy: 0.98 - 0s 6ms/step - loss: 0.0748 - accuracy: 0.9747\n",
      "Epoch 28/42\n",
      "29/29 [==============================] - 0s 6ms/step - loss: 0.1056 - accuracy: 0.9593\n",
      "Epoch 29/42\n",
      "29/29 [==============================] - 0s 7ms/step - loss: 0.0292 - accuracy: 0.9912\n",
      "Epoch 30/42\n",
      "29/29 [==============================] - 0s 6ms/step - loss: 0.0166 - accuracy: 0.9956\n",
      "Epoch 31/42\n",
      "29/29 [==============================] - 0s 7ms/step - loss: 0.0675 - accuracy: 0.9813\n",
      "Epoch 32/42\n",
      "29/29 [==============================] - 0s 7ms/step - loss: 0.0570 - accuracy: 0.9791\n",
      "Epoch 33/42\n",
      "29/29 [==============================] - 0s 6ms/step - loss: 0.0147 - accuracy: 0.9967\n",
      "Epoch 34/42\n",
      "29/29 [==============================] - 0s 8ms/step - loss: 0.0703 - accuracy: 0.9857\n",
      "Epoch 35/42\n",
      "29/29 [==============================] - 0s 8ms/step - loss: 0.0178 - accuracy: 0.9934\n",
      "Epoch 36/42\n",
      "29/29 [==============================] - 0s 6ms/step - loss: 5.9077e-04 - accuracy: 1.0000\n",
      "Epoch 37/42\n",
      "29/29 [==============================] - 0s 6ms/step - loss: 6.2171e-05 - accuracy: 1.0000\n",
      "Epoch 38/42\n",
      "29/29 [==============================] - 0s 6ms/step - loss: 2.5678e-05 - accuracy: 1.0000\n",
      "Epoch 39/42\n",
      "29/29 [==============================] - 0s 6ms/step - loss: 1.0242e-05 - accuracy: 1.0000\n",
      "Epoch 40/42\n",
      "29/29 [==============================] - 0s 6ms/step - loss: 4.9367e-06 - accuracy: 1.0000\n",
      "Epoch 41/42\n",
      "29/29 [==============================] - 0s 6ms/step - loss: 2.9798e-06 - accuracy: 1.0000\n",
      "Epoch 42/42\n",
      "29/29 [==============================] - 0s 6ms/step - loss: 2.0698e-06 - accuracy: 1.0000\n"
     ]
    },
    {
     "data": {
      "text/plain": [
       "<tensorflow.python.keras.callbacks.History at 0x13edbd950>"
      ]
     },
     "execution_count": 22,
     "metadata": {},
     "output_type": "execute_result"
    }
   ],
   "source": [
    "# your code here\n",
    "model = tf.keras.models.Sequential()\n",
    "\n",
    "# adding the layers\n",
    "model.add(tf.keras.layers.Flatten())\n",
    "\n",
    "# Adding 10 layers with ReLU \n",
    "model.add(tf.keras.layers.Dense(220, activation=tf.nn.relu))\n",
    "model.add(tf.keras.layers.Dense(220, activation=tf.nn.relu))\n",
    "model.add(tf.keras.layers.Dense(220, activation=tf.nn.relu))\n",
    "model.add(tf.keras.layers.Dense(220, activation=tf.nn.relu))\n",
    "model.add(tf.keras.layers.Dense(220, activation=tf.nn.relu))\n",
    "model.add(tf.keras.layers.Dense(220, activation=tf.nn.relu))\n",
    "model.add(tf.keras.layers.Dense(220, activation=tf.nn.relu))\n",
    "model.add(tf.keras.layers.Dense(220, activation=tf.nn.relu))\n",
    "model.add(tf.keras.layers.Dense(220, activation=tf.nn.relu))\n",
    "model.add(tf.keras.layers.Dense(220, activation=tf.nn.relu))\n",
    "\n",
    "# 2 classes\n",
    "model.add(tf.keras.layers.Dense(2, activation=tf.nn.softmax))\n",
    "\n",
    "# Compiling\n",
    "model.compile(optimizer = 'adam', loss = 'sparse_categorical_crossentropy', metrics = ['accuracy'])\n",
    "\n",
    "# fitting the training data\n",
    "model.fit(X_train_scaled, y_train, epochs=42)"
   ]
  },
  {
   "cell_type": "markdown",
   "metadata": {},
   "source": [
    "**Which approach(es) did you find helpful to improve your model performance?**"
   ]
  },
  {
   "cell_type": "code",
   "execution_count": null,
   "metadata": {},
   "outputs": [],
   "source": [
    "# your answer here\n",
    "''' \n",
    "I augmented the layers and the epochs for the model to learn from its errors,\n",
    "It seems like the most medium layers and epochs the better the model performs.\n",
    "'''"
   ]
  }
 ],
 "metadata": {
  "kernelspec": {
   "display_name": "Python 3",
   "language": "python",
   "name": "python3"
  },
  "language_info": {
   "codemirror_mode": {
    "name": "ipython",
    "version": 3
   },
   "file_extension": ".py",
   "mimetype": "text/x-python",
   "name": "python",
   "nbconvert_exporter": "python",
   "pygments_lexer": "ipython3",
   "version": "3.7.7"
  }
 },
 "nbformat": 4,
 "nbformat_minor": 2
}
