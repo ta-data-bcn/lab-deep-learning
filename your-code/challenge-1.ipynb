{
 "cells": [
  {
   "cell_type": "markdown",
   "metadata": {},
   "source": [
    "# Challenge 1 - Tic Tac Toe\n",
    "\n",
    "In this lab you will perform deep learning analysis on a dataset of playing [Tic Tac Toe](https://en.wikipedia.org/wiki/Tic-tac-toe).\n",
    "\n",
    "There are 9 grids in Tic Tac Toe that are coded as the following picture shows:\n",
    "\n",
    "![Tic Tac Toe Grids](../images/tttboard.jpg)\n",
    "\n",
    "In the first 9 columns of the dataset you can find which marks (`x` or `o`) exist in the grids. If there is no mark in a certain grid, it is labeled as `b`. The last column is `class` which tells you whether Player X (who always moves first in Tic Tac Toe) wins in this configuration. Note that when `class` has the value `False`, it means either Player O wins the game or it ends up as a draw."
   ]
  },
  {
   "cell_type": "markdown",
   "metadata": {},
   "source": [
    "Follow the steps suggested below to conduct a neural network analysis using Tensorflow and Keras. You will build a deep learning model to predict whether Player X wins the game or not.\n",
    "\n",
    "## Step 1: Data Engineering\n",
    "\n",
    "This dataset is almost in the ready-to-use state so you do not need to worry about missing values and so on. Still, some simple data engineering is needed.\n",
    "\n",
    "1. Read `tic-tac-toe.csv` into a dataframe.\n",
    "1. Inspect the dataset. Determine if the dataset is reliable by eyeballing the data.\n",
    "1. Convert the categorical values to numeric in all columns.\n",
    "1. Separate the inputs and output.\n",
    "1. Normalize the input data."
   ]
  },
  {
   "cell_type": "code",
   "execution_count": 40,
   "metadata": {},
   "outputs": [],
   "source": [
    "import numpy as np\n",
    "import pandas as pd\n",
    "import seaborn as sns\n",
    "import matplotlib.pyplot as plt\n",
    "from sklearn import preprocessing\n",
    "from sklearn.model_selection import train_test_split\n",
    "from keras import models\n",
    "from keras.models import Sequential\n",
    "from keras.layers import Dense, Activation\n",
    "from sklearn.metrics import r2_score\n",
    "from sklearn.metrics import confusion_matrix\n",
    "from sklearn.metrics import accuracy_score"
   ]
  },
  {
   "cell_type": "code",
   "execution_count": 41,
   "metadata": {},
   "outputs": [
    {
     "data": {
      "text/html": [
       "<div>\n",
       "<style scoped>\n",
       "    .dataframe tbody tr th:only-of-type {\n",
       "        vertical-align: middle;\n",
       "    }\n",
       "\n",
       "    .dataframe tbody tr th {\n",
       "        vertical-align: top;\n",
       "    }\n",
       "\n",
       "    .dataframe thead th {\n",
       "        text-align: right;\n",
       "    }\n",
       "</style>\n",
       "<table border=\"1\" class=\"dataframe\">\n",
       "  <thead>\n",
       "    <tr style=\"text-align: right;\">\n",
       "      <th></th>\n",
       "      <th>TL</th>\n",
       "      <th>TM</th>\n",
       "      <th>TR</th>\n",
       "      <th>ML</th>\n",
       "      <th>MM</th>\n",
       "      <th>MR</th>\n",
       "      <th>BL</th>\n",
       "      <th>BM</th>\n",
       "      <th>BR</th>\n",
       "      <th>class</th>\n",
       "    </tr>\n",
       "  </thead>\n",
       "  <tbody>\n",
       "    <tr>\n",
       "      <th>0</th>\n",
       "      <td>x</td>\n",
       "      <td>x</td>\n",
       "      <td>x</td>\n",
       "      <td>x</td>\n",
       "      <td>o</td>\n",
       "      <td>o</td>\n",
       "      <td>x</td>\n",
       "      <td>o</td>\n",
       "      <td>o</td>\n",
       "      <td>True</td>\n",
       "    </tr>\n",
       "    <tr>\n",
       "      <th>1</th>\n",
       "      <td>x</td>\n",
       "      <td>x</td>\n",
       "      <td>x</td>\n",
       "      <td>x</td>\n",
       "      <td>o</td>\n",
       "      <td>o</td>\n",
       "      <td>o</td>\n",
       "      <td>x</td>\n",
       "      <td>o</td>\n",
       "      <td>True</td>\n",
       "    </tr>\n",
       "    <tr>\n",
       "      <th>2</th>\n",
       "      <td>x</td>\n",
       "      <td>x</td>\n",
       "      <td>x</td>\n",
       "      <td>x</td>\n",
       "      <td>o</td>\n",
       "      <td>o</td>\n",
       "      <td>o</td>\n",
       "      <td>o</td>\n",
       "      <td>x</td>\n",
       "      <td>True</td>\n",
       "    </tr>\n",
       "    <tr>\n",
       "      <th>3</th>\n",
       "      <td>x</td>\n",
       "      <td>x</td>\n",
       "      <td>x</td>\n",
       "      <td>x</td>\n",
       "      <td>o</td>\n",
       "      <td>o</td>\n",
       "      <td>o</td>\n",
       "      <td>b</td>\n",
       "      <td>b</td>\n",
       "      <td>True</td>\n",
       "    </tr>\n",
       "    <tr>\n",
       "      <th>4</th>\n",
       "      <td>x</td>\n",
       "      <td>x</td>\n",
       "      <td>x</td>\n",
       "      <td>x</td>\n",
       "      <td>o</td>\n",
       "      <td>o</td>\n",
       "      <td>b</td>\n",
       "      <td>o</td>\n",
       "      <td>b</td>\n",
       "      <td>True</td>\n",
       "    </tr>\n",
       "  </tbody>\n",
       "</table>\n",
       "</div>"
      ],
      "text/plain": [
       "  TL TM TR ML MM MR BL BM BR  class\n",
       "0  x  x  x  x  o  o  x  o  o   True\n",
       "1  x  x  x  x  o  o  o  x  o   True\n",
       "2  x  x  x  x  o  o  o  o  x   True\n",
       "3  x  x  x  x  o  o  o  b  b   True\n",
       "4  x  x  x  x  o  o  b  o  b   True"
      ]
     },
     "execution_count": 41,
     "metadata": {},
     "output_type": "execute_result"
    }
   ],
   "source": [
    "df = pd.read_csv('tic_tac_toe.csv')\n",
    "df.head()"
   ]
  },
  {
   "cell_type": "code",
   "execution_count": 42,
   "metadata": {},
   "outputs": [
    {
     "name": "stdout",
     "output_type": "stream",
     "text": [
      "<class 'pandas.core.frame.DataFrame'>\n",
      "RangeIndex: 958 entries, 0 to 957\n",
      "Data columns (total 10 columns):\n",
      " #   Column  Non-Null Count  Dtype \n",
      "---  ------  --------------  ----- \n",
      " 0   TL      958 non-null    object\n",
      " 1   TM      958 non-null    object\n",
      " 2   TR      958 non-null    object\n",
      " 3   ML      958 non-null    object\n",
      " 4   MM      958 non-null    object\n",
      " 5   MR      958 non-null    object\n",
      " 6   BL      958 non-null    object\n",
      " 7   BM      958 non-null    object\n",
      " 8   BR      958 non-null    object\n",
      " 9   class   958 non-null    bool  \n",
      "dtypes: bool(1), object(9)\n",
      "memory usage: 68.4+ KB\n"
     ]
    }
   ],
   "source": [
    "df.info()"
   ]
  },
  {
   "cell_type": "code",
   "execution_count": 43,
   "metadata": {},
   "outputs": [],
   "source": [
    "col = list(df.columns)\n",
    "col.remove('class')\n",
    "for i in col:\n",
    "    df.replace({i:{'b': 0, 'x':1, 'o':2}}, inplace=True)"
   ]
  },
  {
   "cell_type": "code",
   "execution_count": 32,
   "metadata": {},
   "outputs": [],
   "source": [
    "#for i in df['class']:\n",
    "    #df.replace({i:{True:1, False:0}}, inplace=True)\n",
    "    #doesn't work"
   ]
  },
  {
   "cell_type": "code",
   "execution_count": 44,
   "metadata": {},
   "outputs": [],
   "source": [
    "class_int = preprocessing.LabelBinarizer()\n",
    "df['class'] = class_int.fit_transform(df['class'])"
   ]
  },
  {
   "cell_type": "code",
   "execution_count": 45,
   "metadata": {},
   "outputs": [
    {
     "data": {
      "text/html": [
       "<div>\n",
       "<style scoped>\n",
       "    .dataframe tbody tr th:only-of-type {\n",
       "        vertical-align: middle;\n",
       "    }\n",
       "\n",
       "    .dataframe tbody tr th {\n",
       "        vertical-align: top;\n",
       "    }\n",
       "\n",
       "    .dataframe thead th {\n",
       "        text-align: right;\n",
       "    }\n",
       "</style>\n",
       "<table border=\"1\" class=\"dataframe\">\n",
       "  <thead>\n",
       "    <tr style=\"text-align: right;\">\n",
       "      <th></th>\n",
       "      <th>TL</th>\n",
       "      <th>TM</th>\n",
       "      <th>TR</th>\n",
       "      <th>ML</th>\n",
       "      <th>MM</th>\n",
       "      <th>MR</th>\n",
       "      <th>BL</th>\n",
       "      <th>BM</th>\n",
       "      <th>BR</th>\n",
       "      <th>class</th>\n",
       "    </tr>\n",
       "  </thead>\n",
       "  <tbody>\n",
       "    <tr>\n",
       "      <th>0</th>\n",
       "      <td>1</td>\n",
       "      <td>1</td>\n",
       "      <td>1</td>\n",
       "      <td>1</td>\n",
       "      <td>2</td>\n",
       "      <td>2</td>\n",
       "      <td>1</td>\n",
       "      <td>2</td>\n",
       "      <td>2</td>\n",
       "      <td>1</td>\n",
       "    </tr>\n",
       "    <tr>\n",
       "      <th>1</th>\n",
       "      <td>1</td>\n",
       "      <td>1</td>\n",
       "      <td>1</td>\n",
       "      <td>1</td>\n",
       "      <td>2</td>\n",
       "      <td>2</td>\n",
       "      <td>2</td>\n",
       "      <td>1</td>\n",
       "      <td>2</td>\n",
       "      <td>1</td>\n",
       "    </tr>\n",
       "    <tr>\n",
       "      <th>2</th>\n",
       "      <td>1</td>\n",
       "      <td>1</td>\n",
       "      <td>1</td>\n",
       "      <td>1</td>\n",
       "      <td>2</td>\n",
       "      <td>2</td>\n",
       "      <td>2</td>\n",
       "      <td>2</td>\n",
       "      <td>1</td>\n",
       "      <td>1</td>\n",
       "    </tr>\n",
       "    <tr>\n",
       "      <th>3</th>\n",
       "      <td>1</td>\n",
       "      <td>1</td>\n",
       "      <td>1</td>\n",
       "      <td>1</td>\n",
       "      <td>2</td>\n",
       "      <td>2</td>\n",
       "      <td>2</td>\n",
       "      <td>0</td>\n",
       "      <td>0</td>\n",
       "      <td>1</td>\n",
       "    </tr>\n",
       "    <tr>\n",
       "      <th>4</th>\n",
       "      <td>1</td>\n",
       "      <td>1</td>\n",
       "      <td>1</td>\n",
       "      <td>1</td>\n",
       "      <td>2</td>\n",
       "      <td>2</td>\n",
       "      <td>0</td>\n",
       "      <td>2</td>\n",
       "      <td>0</td>\n",
       "      <td>1</td>\n",
       "    </tr>\n",
       "  </tbody>\n",
       "</table>\n",
       "</div>"
      ],
      "text/plain": [
       "   TL  TM  TR  ML  MM  MR  BL  BM  BR  class\n",
       "0   1   1   1   1   2   2   1   2   2      1\n",
       "1   1   1   1   1   2   2   2   1   2      1\n",
       "2   1   1   1   1   2   2   2   2   1      1\n",
       "3   1   1   1   1   2   2   2   0   0      1\n",
       "4   1   1   1   1   2   2   0   2   0      1"
      ]
     },
     "execution_count": 45,
     "metadata": {},
     "output_type": "execute_result"
    }
   ],
   "source": [
    "df.head()"
   ]
  },
  {
   "cell_type": "code",
   "execution_count": 46,
   "metadata": {},
   "outputs": [],
   "source": [
    "# x = df.values \n",
    "# min_max_scaler = preprocessing.MinMaxScaler()\n",
    "# x_scaled = min_max_scaler.fit_transform(x)\n",
    "# df = pd.DataFrame(data=x_scaled, columns=df.columns)"
   ]
  },
  {
   "cell_type": "code",
   "execution_count": 47,
   "metadata": {},
   "outputs": [
    {
     "name": "stdout",
     "output_type": "stream",
     "text": [
      "<class 'pandas.core.frame.DataFrame'>\n",
      "RangeIndex: 958 entries, 0 to 957\n",
      "Data columns (total 10 columns):\n",
      " #   Column  Non-Null Count  Dtype\n",
      "---  ------  --------------  -----\n",
      " 0   TL      958 non-null    int64\n",
      " 1   TM      958 non-null    int64\n",
      " 2   TR      958 non-null    int64\n",
      " 3   ML      958 non-null    int64\n",
      " 4   MM      958 non-null    int64\n",
      " 5   MR      958 non-null    int64\n",
      " 6   BL      958 non-null    int64\n",
      " 7   BM      958 non-null    int64\n",
      " 8   BR      958 non-null    int64\n",
      " 9   class   958 non-null    int32\n",
      "dtypes: int32(1), int64(9)\n",
      "memory usage: 71.2 KB\n"
     ]
    }
   ],
   "source": [
    "df.info()"
   ]
  },
  {
   "cell_type": "code",
   "execution_count": 48,
   "metadata": {},
   "outputs": [],
   "source": [
    "features = df.drop(['class'], axis=1).copy()\n",
    "target = pd.DataFrame(df['class'])"
   ]
  },
  {
   "cell_type": "code",
   "execution_count": 49,
   "metadata": {},
   "outputs": [],
   "source": [
    "X_train, X_test, y_train, y_test = train_test_split(features, target, test_size=0.8, random_state=111)"
   ]
  },
  {
   "cell_type": "markdown",
   "metadata": {},
   "source": [
    "## Step 2: Build Neural Network\n",
    "\n",
    "To build the neural network, you can refer to your own codes you wrote while following the [Deep Learning with Python, TensorFlow, and Keras tutorial](https://www.youtube.com/watch?v=wQ8BIBpya2k) in the lesson. It's pretty similar to what you will be doing in this lab.\n",
    "\n",
    "1. Split the training and test data.\n",
    "1. Create a `Sequential` model.\n",
    "1. Add several layers to your model. Make sure you use ReLU as the activation function for the middle layers. Use Softmax for the output layer because each output has a single lable and all the label probabilities add up to 1.\n",
    "1. Compile the model using `adam` as the optimizer and `binary_crossentropy` as the loss function. For metrics, use `accuracy` for now.\n",
    "1. Fit the training data.\n",
    "1. Evaluate your neural network model with the test data.\n",
    "1. Save your model as `tic-tac-toe.model`."
   ]
  },
  {
   "cell_type": "code",
   "execution_count": 76,
   "metadata": {
    "scrolled": true
   },
   "outputs": [
    {
     "name": "stdout",
     "output_type": "stream",
     "text": [
      "Epoch 1/50\n",
      "191/191 [==============================] - 0s 1ms/step - loss: 0.6707 - accuracy: 0.6545\n",
      "Epoch 2/50\n",
      "191/191 [==============================] - 0s 658us/step - loss: 0.6470 - accuracy: 0.6545\n",
      "Epoch 3/50\n",
      "191/191 [==============================] - 0s 674us/step - loss: 0.6237 - accuracy: 0.6545\n",
      "Epoch 4/50\n",
      "191/191 [==============================] - 0s 605us/step - loss: 0.6098 - accuracy: 0.6545\n",
      "Epoch 5/50\n",
      "191/191 [==============================] - 0s 553us/step - loss: 0.5832 - accuracy: 0.6754\n",
      "Epoch 6/50\n",
      "191/191 [==============================] - 0s 615us/step - loss: 0.5509 - accuracy: 0.7277\n",
      "Epoch 7/50\n",
      "191/191 [==============================] - 0s 591us/step - loss: 0.5269 - accuracy: 0.7382\n",
      "Epoch 8/50\n",
      "191/191 [==============================] - 0s 517us/step - loss: 0.5026 - accuracy: 0.7382\n",
      "Epoch 9/50\n",
      "191/191 [==============================] - 0s 590us/step - loss: 0.4722 - accuracy: 0.7853\n",
      "Epoch 10/50\n",
      "191/191 [==============================] - 0s 578us/step - loss: 0.4377 - accuracy: 0.7958\n",
      "Epoch 11/50\n",
      "191/191 [==============================] - 0s 538us/step - loss: 0.4338 - accuracy: 0.7801\n",
      "Epoch 12/50\n",
      "191/191 [==============================] - 0s 543us/step - loss: 0.4143 - accuracy: 0.8272\n",
      "Epoch 13/50\n",
      "191/191 [==============================] - 0s 574us/step - loss: 0.4110 - accuracy: 0.8063\n",
      "Epoch 14/50\n",
      "191/191 [==============================] - 0s 559us/step - loss: 0.3871 - accuracy: 0.8220\n",
      "Epoch 15/50\n",
      "191/191 [==============================] - 0s 597us/step - loss: 0.3628 - accuracy: 0.8534\n",
      "Epoch 16/50\n",
      "191/191 [==============================] - 0s 553us/step - loss: 0.3829 - accuracy: 0.8272\n",
      "Epoch 17/50\n",
      "191/191 [==============================] - 0s 531us/step - loss: 0.3527 - accuracy: 0.8586\n",
      "Epoch 18/50\n",
      "191/191 [==============================] - 0s 580us/step - loss: 0.3423 - accuracy: 0.8534\n",
      "Epoch 19/50\n",
      "191/191 [==============================] - 0s 569us/step - loss: 0.3185 - accuracy: 0.8743\n",
      "Epoch 20/50\n",
      "191/191 [==============================] - 0s 518us/step - loss: 0.3063 - accuracy: 0.8586\n",
      "Epoch 21/50\n",
      "191/191 [==============================] - 0s 548us/step - loss: 0.2923 - accuracy: 0.8796\n",
      "Epoch 22/50\n",
      "191/191 [==============================] - 0s 553us/step - loss: 0.2884 - accuracy: 0.8743\n",
      "Epoch 23/50\n",
      "191/191 [==============================] - 0s 548us/step - loss: 0.2967 - accuracy: 0.8743\n",
      "Epoch 24/50\n",
      "191/191 [==============================] - 0s 553us/step - loss: 0.2778 - accuracy: 0.8953\n",
      "Epoch 25/50\n",
      "191/191 [==============================] - 0s 585us/step - loss: 0.2563 - accuracy: 0.8953\n",
      "Epoch 26/50\n",
      "191/191 [==============================] - 0s 585us/step - loss: 0.2412 - accuracy: 0.9005\n",
      "Epoch 27/50\n",
      "191/191 [==============================] - 0s 538us/step - loss: 0.2525 - accuracy: 0.9058\n",
      "Epoch 28/50\n",
      "191/191 [==============================] - 0s 705us/step - loss: 0.2250 - accuracy: 0.9162\n",
      "Epoch 29/50\n",
      "191/191 [==============================] - 0s 684us/step - loss: 0.2100 - accuracy: 0.9215\n",
      "Epoch 30/50\n",
      "191/191 [==============================] - 0s 705us/step - loss: 0.2315 - accuracy: 0.9058\n",
      "Epoch 31/50\n",
      "191/191 [==============================] - 0s 741us/step - loss: 0.1981 - accuracy: 0.9372\n",
      "Epoch 32/50\n",
      "191/191 [==============================] - 0s 694us/step - loss: 0.1907 - accuracy: 0.9110\n",
      "Epoch 33/50\n",
      "191/191 [==============================] - 0s 705us/step - loss: 0.1983 - accuracy: 0.9319\n",
      "Epoch 34/50\n",
      "191/191 [==============================] - 0s 710us/step - loss: 0.1700 - accuracy: 0.9372\n",
      "Epoch 35/50\n",
      "191/191 [==============================] - 0s 663us/step - loss: 0.1766 - accuracy: 0.9529\n",
      "Epoch 36/50\n",
      "191/191 [==============================] - 0s 674us/step - loss: 0.1548 - accuracy: 0.9476\n",
      "Epoch 37/50\n",
      "191/191 [==============================] - 0s 715us/step - loss: 0.1480 - accuracy: 0.96860s - loss: 0.1457 - accuracy: 0.96\n",
      "Epoch 38/50\n",
      "191/191 [==============================] - 0s 700us/step - loss: 0.1534 - accuracy: 0.9372\n",
      "Epoch 39/50\n",
      "191/191 [==============================] - 0s 606us/step - loss: 0.1468 - accuracy: 0.9529\n",
      "Epoch 40/50\n",
      "191/191 [==============================] - 0s 602us/step - loss: 0.1236 - accuracy: 0.9581\n",
      "Epoch 41/50\n",
      "191/191 [==============================] - 0s 574us/step - loss: 0.1198 - accuracy: 0.9634\n",
      "Epoch 42/50\n",
      "191/191 [==============================] - 0s 595us/step - loss: 0.1179 - accuracy: 0.9581\n",
      "Epoch 43/50\n",
      "191/191 [==============================] - 0s 549us/step - loss: 0.1123 - accuracy: 0.9738\n",
      "Epoch 44/50\n",
      "191/191 [==============================] - 0s 554us/step - loss: 0.0930 - accuracy: 0.9581\n",
      "Epoch 45/50\n",
      "191/191 [==============================] - 0s 647us/step - loss: 0.0926 - accuracy: 0.9686\n",
      "Epoch 46/50\n",
      "191/191 [==============================] - 0s 512us/step - loss: 0.1113 - accuracy: 0.9686\n",
      "Epoch 47/50\n",
      "191/191 [==============================] - 0s 575us/step - loss: 0.0980 - accuracy: 0.9791\n",
      "Epoch 48/50\n",
      "191/191 [==============================] - 0s 647us/step - loss: 0.0973 - accuracy: 0.9581\n",
      "Epoch 49/50\n",
      "191/191 [==============================] - 0s 606us/step - loss: 0.0654 - accuracy: 0.9895\n",
      "Epoch 50/50\n",
      "191/191 [==============================] - 0s 606us/step - loss: 0.0692 - accuracy: 0.9686\n",
      "1.0415773732099571\n",
      "0.6975228190422058\n"
     ]
    }
   ],
   "source": [
    "#2.3.\n",
    "df_model = models.Sequential()\n",
    "df_model.add(Dense(units=111, kernel_initializer='uniform', activation='relu', input_dim=9))\n",
    "df_model.add(Dense(units=111, kernel_initializer='uniform', activation='relu'))\n",
    "df_model.add(Dense(units=1, kernel_initializer='uniform', activation='sigmoid'))\n",
    "#4.\n",
    "df_model.compile(optimizer='adam', loss='binary_crossentropy', metrics=['accuracy'])\n",
    "#5.\n",
    "df_model.fit(X_train ,y_train, batch_size=2, epochs=50)\n",
    "\n",
    "loss, accuracy = df_model.evaluate(X_test, y_test, verbose=0)\n",
    "\n",
    "print(loss)\n",
    "print(accuracy)\n",
    "\n",
    "df_model.save('tic-tac-toe.model')"
   ]
  },
  {
   "cell_type": "markdown",
   "metadata": {},
   "source": [
    "## Step 3: Make Predictions\n",
    "\n",
    "Now load your saved model and use it to make predictions on a few random rows in the test dataset. Check if the predictions are correct."
   ]
  },
  {
   "cell_type": "code",
   "execution_count": 77,
   "metadata": {},
   "outputs": [],
   "source": [
    "my_model = models.load_model('tic-tac-toe.model')"
   ]
  },
  {
   "cell_type": "code",
   "execution_count": 78,
   "metadata": {},
   "outputs": [
    {
     "name": "stdout",
     "output_type": "stream",
     "text": [
      "actual [0] vs predicted [0.09351388]\n",
      "actual [0] vs predicted [0.99999857]\n",
      "actual [1] vs predicted [0.9999881]\n",
      "actual [1] vs predicted [1.]\n",
      "actual [1] vs predicted [0.9991193]\n",
      "actual [1] vs predicted [0.9825574]\n",
      "actual [0] vs predicted [0.13643602]\n",
      "actual [1] vs predicted [0.9978883]\n",
      "actual [1] vs predicted [0.67862815]\n",
      "actual [1] vs predicted [0.99387604]\n",
      "actual [1] vs predicted [0.99986076]\n",
      "actual [1] vs predicted [0.99994266]\n",
      "actual [0] vs predicted [0.23780218]\n",
      "actual [1] vs predicted [0.93378866]\n",
      "actual [1] vs predicted [0.9992094]\n",
      "actual [0] vs predicted [0.9999201]\n",
      "actual [1] vs predicted [0.99801844]\n",
      "actual [1] vs predicted [1.]\n",
      "actual [1] vs predicted [0.8790058]\n",
      "actual [0] vs predicted [0.9992168]\n",
      "actual [1] vs predicted [1.]\n",
      "actual [1] vs predicted [0.9999924]\n",
      "actual [1] vs predicted [1.]\n",
      "actual [0] vs predicted [0.00637788]\n",
      "actual [1] vs predicted [1.]\n",
      "actual [1] vs predicted [0.80870783]\n",
      "actual [1] vs predicted [0.9999459]\n",
      "actual [1] vs predicted [0.9999881]\n",
      "actual [1] vs predicted [0.97927773]\n",
      "actual [1] vs predicted [0.9713495]\n",
      "actual [1] vs predicted [0.98732114]\n",
      "actual [1] vs predicted [0.99999696]\n",
      "actual [0] vs predicted [0.0068022]\n",
      "actual [1] vs predicted [1.]\n",
      "actual [1] vs predicted [0.01192769]\n",
      "actual [0] vs predicted [0.9815644]\n",
      "actual [1] vs predicted [1.]\n",
      "actual [1] vs predicted [0.7689446]\n",
      "actual [0] vs predicted [0.00844085]\n",
      "actual [1] vs predicted [0.59252155]\n"
     ]
    }
   ],
   "source": [
    "y_pred = my_model.predict(X_test[111:151])\n",
    "for i,j in zip(y_test[111:151].values, y_pred):\n",
    "    print(f'actual {i} vs predicted {j}')"
   ]
  },
  {
   "cell_type": "markdown",
   "metadata": {},
   "source": [
    "## Step 4: Improve Your Model\n",
    "\n",
    "Did your model achieve low loss (<0.1) and high accuracy (>0.95)? If not, try to improve your model.\n",
    "\n",
    "But how? There are so many things you can play with in Tensorflow and in the next challenge you'll learn about these things. But in this challenge, let's just do a few things to see if they will help.\n",
    "\n",
    "* Add more layers to your model. If the data are complex you need more layers. But don't use more layers than you need. If adding more layers does not improve the model performance you don't need additional layers.\n",
    "* Adjust the learning rate when you compile the model. This means you will create a custom `tf.keras.optimizers.Adam` instance where you specify the learning rate you want. Then pass the instance to `model.compile` as the optimizer.\n",
    "    * `tf.keras.optimizers.Adam` [reference](https://www.tensorflow.org/api_docs/python/tf/keras/optimizers/Adam).\n",
    "    * Don't worry if you don't understand what the learning rate does. You'll learn about it in the next challenge.\n",
    "* Adjust the number of epochs when you fit the training data to the model. Your model performance continues to improve as you train more epochs. But eventually it will reach the ceiling and the performance will stay the same."
   ]
  },
  {
   "cell_type": "markdown",
   "metadata": {},
   "source": [
    "I played a little bit with the parameters (epochs, batch_sizeand units), but at the end, the best improvement came from using sigmoid as activation for the output. Now that the model has achieved low loss (<0.1) and high accuracy (>0.95). I'm going to leave it here, I'll give it a look once I finish the final project."
   ]
  },
  {
   "cell_type": "markdown",
   "metadata": {},
   "source": [
    "**Which approach(es) did you find helpful to improve your model performance?**"
   ]
  },
  {
   "cell_type": "code",
   "execution_count": null,
   "metadata": {},
   "outputs": [],
   "source": [
    "# your answer here"
   ]
  }
 ],
 "metadata": {
  "kernelspec": {
   "display_name": "Python 3",
   "language": "python",
   "name": "python3"
  },
  "language_info": {
   "codemirror_mode": {
    "name": "ipython",
    "version": 3
   },
   "file_extension": ".py",
   "mimetype": "text/x-python",
   "name": "python",
   "nbconvert_exporter": "python",
   "pygments_lexer": "ipython3",
   "version": "3.7.7"
  }
 },
 "nbformat": 4,
 "nbformat_minor": 2
}
