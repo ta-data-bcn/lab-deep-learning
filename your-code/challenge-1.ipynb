{
 "cells": [
  {
   "cell_type": "markdown",
   "metadata": {},
   "source": [
    "# Challenge 1 - Tic Tac Toe\n",
    "\n",
    "In this lab you will perform deep learning analysis on a dataset of playing [Tic Tac Toe](https://en.wikipedia.org/wiki/Tic-tac-toe).\n",
    "\n",
    "There are 9 grids in Tic Tac Toe that are coded as the following picture shows:\n",
    "\n",
    "![Tic Tac Toe Grids](../images/tttboard.jpg)\n",
    "\n",
    "In the first 9 columns of the dataset you can find which marks (`x` or `o`) exist in the grids. If there is no mark in a certain grid, it is labeled as `b`. The last column is `class` which tells you whether Player X (who always moves first in Tic Tac Toe) wins in this configuration. Note that when `class` has the value `False`, it means either Player O wins the game or it ends up as a draw."
   ]
  },
  {
   "cell_type": "markdown",
   "metadata": {},
   "source": [
    "Follow the steps suggested below to conduct a neural network analysis using Tensorflow and Keras. You will build a deep learning model to predict whether Player X wins the game or not.\n",
    "\n",
    "## Step 1: Data Engineering\n",
    "\n",
    "This dataset is almost in the ready-to-use state so you do not need to worry about missing values and so on. Still, some simple data engineering is needed.\n",
    "\n",
    "1. Read `tic-tac-toe.csv` into a dataframe.\n",
    "1. Inspect the dataset. Determine if the dataset is reliable by eyeballing the data.\n",
    "1. Convert the categorical values to numeric in all columns.\n",
    "1. Separate the inputs and output.\n",
    "1. Normalize the input data."
   ]
  },
  {
   "cell_type": "code",
   "execution_count": 1,
   "metadata": {},
   "outputs": [
    {
     "name": "stderr",
     "output_type": "stream",
     "text": [
      "Using TensorFlow backend.\n"
     ]
    }
   ],
   "source": [
    "import numpy as np\n",
    "import pandas as pd\n",
    "import seaborn as sns\n",
    "import matplotlib.pyplot as plt\n",
    "from sklearn import preprocessing\n",
    "from sklearn.model_selection import train_test_split\n",
    "from keras import models\n",
    "from keras.models import Sequential\n",
    "from keras.layers import Dense, Activation\n",
    "from sklearn.metrics import r2_score\n",
    "from sklearn.metrics import confusion_matrix\n",
    "from sklearn.metrics import accuracy_score"
   ]
  },
  {
   "cell_type": "code",
   "execution_count": 2,
   "metadata": {},
   "outputs": [],
   "source": [
    "df = pd.read_csv('..//data//tic-tac-toe.csv')"
   ]
  },
  {
   "cell_type": "code",
   "execution_count": 3,
   "metadata": {},
   "outputs": [
    {
     "data": {
      "text/html": [
       "<div>\n",
       "<style scoped>\n",
       "    .dataframe tbody tr th:only-of-type {\n",
       "        vertical-align: middle;\n",
       "    }\n",
       "\n",
       "    .dataframe tbody tr th {\n",
       "        vertical-align: top;\n",
       "    }\n",
       "\n",
       "    .dataframe thead th {\n",
       "        text-align: right;\n",
       "    }\n",
       "</style>\n",
       "<table border=\"1\" class=\"dataframe\">\n",
       "  <thead>\n",
       "    <tr style=\"text-align: right;\">\n",
       "      <th></th>\n",
       "      <th>TL</th>\n",
       "      <th>TM</th>\n",
       "      <th>TR</th>\n",
       "      <th>ML</th>\n",
       "      <th>MM</th>\n",
       "      <th>MR</th>\n",
       "      <th>BL</th>\n",
       "      <th>BM</th>\n",
       "      <th>BR</th>\n",
       "      <th>class</th>\n",
       "    </tr>\n",
       "  </thead>\n",
       "  <tbody>\n",
       "    <tr>\n",
       "      <th>0</th>\n",
       "      <td>x</td>\n",
       "      <td>x</td>\n",
       "      <td>x</td>\n",
       "      <td>x</td>\n",
       "      <td>o</td>\n",
       "      <td>o</td>\n",
       "      <td>x</td>\n",
       "      <td>o</td>\n",
       "      <td>o</td>\n",
       "      <td>True</td>\n",
       "    </tr>\n",
       "    <tr>\n",
       "      <th>1</th>\n",
       "      <td>x</td>\n",
       "      <td>x</td>\n",
       "      <td>x</td>\n",
       "      <td>x</td>\n",
       "      <td>o</td>\n",
       "      <td>o</td>\n",
       "      <td>o</td>\n",
       "      <td>x</td>\n",
       "      <td>o</td>\n",
       "      <td>True</td>\n",
       "    </tr>\n",
       "    <tr>\n",
       "      <th>2</th>\n",
       "      <td>x</td>\n",
       "      <td>x</td>\n",
       "      <td>x</td>\n",
       "      <td>x</td>\n",
       "      <td>o</td>\n",
       "      <td>o</td>\n",
       "      <td>o</td>\n",
       "      <td>o</td>\n",
       "      <td>x</td>\n",
       "      <td>True</td>\n",
       "    </tr>\n",
       "    <tr>\n",
       "      <th>3</th>\n",
       "      <td>x</td>\n",
       "      <td>x</td>\n",
       "      <td>x</td>\n",
       "      <td>x</td>\n",
       "      <td>o</td>\n",
       "      <td>o</td>\n",
       "      <td>o</td>\n",
       "      <td>b</td>\n",
       "      <td>b</td>\n",
       "      <td>True</td>\n",
       "    </tr>\n",
       "    <tr>\n",
       "      <th>4</th>\n",
       "      <td>x</td>\n",
       "      <td>x</td>\n",
       "      <td>x</td>\n",
       "      <td>x</td>\n",
       "      <td>o</td>\n",
       "      <td>o</td>\n",
       "      <td>b</td>\n",
       "      <td>o</td>\n",
       "      <td>b</td>\n",
       "      <td>True</td>\n",
       "    </tr>\n",
       "  </tbody>\n",
       "</table>\n",
       "</div>"
      ],
      "text/plain": [
       "  TL TM TR ML MM MR BL BM BR  class\n",
       "0  x  x  x  x  o  o  x  o  o   True\n",
       "1  x  x  x  x  o  o  o  x  o   True\n",
       "2  x  x  x  x  o  o  o  o  x   True\n",
       "3  x  x  x  x  o  o  o  b  b   True\n",
       "4  x  x  x  x  o  o  b  o  b   True"
      ]
     },
     "execution_count": 3,
     "metadata": {},
     "output_type": "execute_result"
    }
   ],
   "source": [
    "df.head()"
   ]
  },
  {
   "cell_type": "code",
   "execution_count": 4,
   "metadata": {},
   "outputs": [
    {
     "name": "stdout",
     "output_type": "stream",
     "text": [
      "<class 'pandas.core.frame.DataFrame'>\n",
      "RangeIndex: 958 entries, 0 to 957\n",
      "Data columns (total 10 columns):\n",
      "TL       958 non-null object\n",
      "TM       958 non-null object\n",
      "TR       958 non-null object\n",
      "ML       958 non-null object\n",
      "MM       958 non-null object\n",
      "MR       958 non-null object\n",
      "BL       958 non-null object\n",
      "BM       958 non-null object\n",
      "BR       958 non-null object\n",
      "class    958 non-null bool\n",
      "dtypes: bool(1), object(9)\n",
      "memory usage: 68.4+ KB\n"
     ]
    }
   ],
   "source": [
    "df.info()"
   ]
  },
  {
   "cell_type": "code",
   "execution_count": 5,
   "metadata": {},
   "outputs": [
    {
     "data": {
      "text/plain": [
       "True     626\n",
       "False    332\n",
       "Name: class, dtype: int64"
      ]
     },
     "execution_count": 5,
     "metadata": {},
     "output_type": "execute_result"
    }
   ],
   "source": [
    "df['class'].value_counts()"
   ]
  },
  {
   "cell_type": "code",
   "execution_count": 6,
   "metadata": {},
   "outputs": [],
   "source": [
    "columns = list(df.columns)\n",
    "columns.remove('class')"
   ]
  },
  {
   "cell_type": "code",
   "execution_count": 7,
   "metadata": {},
   "outputs": [],
   "source": [
    "for i in columns:\n",
    "    df.replace({i: {'x': 2, 'o': 1, 'b':0}}, inplace = True)\n",
    "\n",
    "lb = preprocessing.LabelBinarizer()\n",
    "df['class'] = lb.fit_transform(df['class'])"
   ]
  },
  {
   "cell_type": "code",
   "execution_count": 8,
   "metadata": {},
   "outputs": [
    {
     "data": {
      "text/html": [
       "<div>\n",
       "<style scoped>\n",
       "    .dataframe tbody tr th:only-of-type {\n",
       "        vertical-align: middle;\n",
       "    }\n",
       "\n",
       "    .dataframe tbody tr th {\n",
       "        vertical-align: top;\n",
       "    }\n",
       "\n",
       "    .dataframe thead th {\n",
       "        text-align: right;\n",
       "    }\n",
       "</style>\n",
       "<table border=\"1\" class=\"dataframe\">\n",
       "  <thead>\n",
       "    <tr style=\"text-align: right;\">\n",
       "      <th></th>\n",
       "      <th>TL</th>\n",
       "      <th>TM</th>\n",
       "      <th>TR</th>\n",
       "      <th>ML</th>\n",
       "      <th>MM</th>\n",
       "      <th>MR</th>\n",
       "      <th>BL</th>\n",
       "      <th>BM</th>\n",
       "      <th>BR</th>\n",
       "      <th>class</th>\n",
       "    </tr>\n",
       "  </thead>\n",
       "  <tbody>\n",
       "    <tr>\n",
       "      <th>0</th>\n",
       "      <td>2</td>\n",
       "      <td>2</td>\n",
       "      <td>2</td>\n",
       "      <td>2</td>\n",
       "      <td>1</td>\n",
       "      <td>1</td>\n",
       "      <td>2</td>\n",
       "      <td>1</td>\n",
       "      <td>1</td>\n",
       "      <td>1</td>\n",
       "    </tr>\n",
       "    <tr>\n",
       "      <th>1</th>\n",
       "      <td>2</td>\n",
       "      <td>2</td>\n",
       "      <td>2</td>\n",
       "      <td>2</td>\n",
       "      <td>1</td>\n",
       "      <td>1</td>\n",
       "      <td>1</td>\n",
       "      <td>2</td>\n",
       "      <td>1</td>\n",
       "      <td>1</td>\n",
       "    </tr>\n",
       "    <tr>\n",
       "      <th>2</th>\n",
       "      <td>2</td>\n",
       "      <td>2</td>\n",
       "      <td>2</td>\n",
       "      <td>2</td>\n",
       "      <td>1</td>\n",
       "      <td>1</td>\n",
       "      <td>1</td>\n",
       "      <td>1</td>\n",
       "      <td>2</td>\n",
       "      <td>1</td>\n",
       "    </tr>\n",
       "    <tr>\n",
       "      <th>3</th>\n",
       "      <td>2</td>\n",
       "      <td>2</td>\n",
       "      <td>2</td>\n",
       "      <td>2</td>\n",
       "      <td>1</td>\n",
       "      <td>1</td>\n",
       "      <td>1</td>\n",
       "      <td>0</td>\n",
       "      <td>0</td>\n",
       "      <td>1</td>\n",
       "    </tr>\n",
       "    <tr>\n",
       "      <th>4</th>\n",
       "      <td>2</td>\n",
       "      <td>2</td>\n",
       "      <td>2</td>\n",
       "      <td>2</td>\n",
       "      <td>1</td>\n",
       "      <td>1</td>\n",
       "      <td>0</td>\n",
       "      <td>1</td>\n",
       "      <td>0</td>\n",
       "      <td>1</td>\n",
       "    </tr>\n",
       "  </tbody>\n",
       "</table>\n",
       "</div>"
      ],
      "text/plain": [
       "   TL  TM  TR  ML  MM  MR  BL  BM  BR  class\n",
       "0   2   2   2   2   1   1   2   1   1      1\n",
       "1   2   2   2   2   1   1   1   2   1      1\n",
       "2   2   2   2   2   1   1   1   1   2      1\n",
       "3   2   2   2   2   1   1   1   0   0      1\n",
       "4   2   2   2   2   1   1   0   1   0      1"
      ]
     },
     "execution_count": 8,
     "metadata": {},
     "output_type": "execute_result"
    }
   ],
   "source": [
    "df.head()"
   ]
  },
  {
   "cell_type": "code",
   "execution_count": 9,
   "metadata": {},
   "outputs": [
    {
     "name": "stdout",
     "output_type": "stream",
     "text": [
      "<class 'pandas.core.frame.DataFrame'>\n",
      "RangeIndex: 958 entries, 0 to 957\n",
      "Data columns (total 10 columns):\n",
      "TL       958 non-null int64\n",
      "TM       958 non-null int64\n",
      "TR       958 non-null int64\n",
      "ML       958 non-null int64\n",
      "MM       958 non-null int64\n",
      "MR       958 non-null int64\n",
      "BL       958 non-null int64\n",
      "BM       958 non-null int64\n",
      "BR       958 non-null int64\n",
      "class    958 non-null int32\n",
      "dtypes: int32(1), int64(9)\n",
      "memory usage: 71.2 KB\n"
     ]
    }
   ],
   "source": [
    "df.info()"
   ]
  },
  {
   "cell_type": "markdown",
   "metadata": {},
   "source": [
    "## Step 2: Build Neural Network\n",
    "\n",
    "To build the neural network, you can refer to your own codes you wrote while following the [Deep Learning with Python, TensorFlow, and Keras tutorial](https://www.youtube.com/watch?v=wQ8BIBpya2k) in the lesson. It's pretty similar to what you will be doing in this lab.\n",
    "\n",
    "1. Split the training and test data.\n",
    "1. Create a `Sequential` model.\n",
    "1. Add several layers to your model. Make sure you use ReLU as the activation function for the middle layers. Use Softmax for the output layer because each output has a single lable and all the label probabilities add up to 1.\n",
    "1. Compile the model using `adam` as the optimizer and `binary_crossentropy` as the loss function. For metrics, use `accuracy` for now.\n",
    "1. Fit the training data.\n",
    "1. Evaluate your neural network model with the test data.\n",
    "1. Save your model as `tic-tac-toe.model`."
   ]
  },
  {
   "cell_type": "code",
   "execution_count": 10,
   "metadata": {},
   "outputs": [],
   "source": [
    "y = pd.DataFrame(df['class'])\n",
    "X = df.drop(columns=['class']).copy()"
   ]
  },
  {
   "cell_type": "code",
   "execution_count": 11,
   "metadata": {},
   "outputs": [],
   "source": [
    "X_train, X_test, y_train, y_test = train_test_split(X, y, test_size=0.2)"
   ]
  },
  {
   "cell_type": "code",
   "execution_count": 12,
   "metadata": {
    "scrolled": false
   },
   "outputs": [
    {
     "name": "stdout",
     "output_type": "stream",
     "text": [
      "Epoch 1/50\n",
      "766/766 [==============================] - 1s 958us/step - loss: 0.6459 - accuracy: 0.6475\n",
      "Epoch 2/50\n",
      "766/766 [==============================] - 1s 766us/step - loss: 0.6164 - accuracy: 0.6854\n",
      "Epoch 3/50\n",
      "766/766 [==============================] - 1s 803us/step - loss: 0.5842 - accuracy: 0.7285\n",
      "Epoch 4/50\n",
      "766/766 [==============================] - 1s 764us/step - loss: 0.5184 - accuracy: 0.7624\n",
      "Epoch 5/50\n",
      "766/766 [==============================] - 1s 778us/step - loss: 0.4840 - accuracy: 0.7872\n",
      "Epoch 6/50\n",
      "766/766 [==============================] - 1s 766us/step - loss: 0.4586 - accuracy: 0.8016\n",
      "Epoch 7/50\n",
      "766/766 [==============================] - 1s 776us/step - loss: 0.4330 - accuracy: 0.7937\n",
      "Epoch 8/50\n",
      "766/766 [==============================] - 1s 783us/step - loss: 0.4063 - accuracy: 0.8159\n",
      "Epoch 9/50\n",
      "766/766 [==============================] - 1s 806us/step - loss: 0.3858 - accuracy: 0.8264\n",
      "Epoch 10/50\n",
      "766/766 [==============================] - 1s 781us/step - loss: 0.3589 - accuracy: 0.8368\n",
      "Epoch 11/50\n",
      "766/766 [==============================] - 1s 783us/step - loss: 0.3329 - accuracy: 0.8629\n",
      "Epoch 12/50\n",
      "766/766 [==============================] - 1s 789us/step - loss: 0.3261 - accuracy: 0.8538\n",
      "Epoch 13/50\n",
      "766/766 [==============================] - 1s 779us/step - loss: 0.3008 - accuracy: 0.8747\n",
      "Epoch 14/50\n",
      "766/766 [==============================] - 1s 786us/step - loss: 0.2895 - accuracy: 0.8668\n",
      "Epoch 15/50\n",
      "766/766 [==============================] - 1s 781us/step - loss: 0.2684 - accuracy: 0.8812\n",
      "Epoch 16/50\n",
      "766/766 [==============================] - 1s 785us/step - loss: 0.2389 - accuracy: 0.9125\n",
      "Epoch 17/50\n",
      "766/766 [==============================] - 1s 790us/step - loss: 0.2335 - accuracy: 0.9034\n",
      "Epoch 18/50\n",
      "766/766 [==============================] - 1s 782us/step - loss: 0.1976 - accuracy: 0.9151\n",
      "Epoch 19/50\n",
      "766/766 [==============================] - 1s 779us/step - loss: 0.1779 - accuracy: 0.9217\n",
      "Epoch 20/50\n",
      "766/766 [==============================] - 1s 800us/step - loss: 0.1830 - accuracy: 0.9164\n",
      "Epoch 21/50\n",
      "766/766 [==============================] - 1s 794us/step - loss: 0.1281 - accuracy: 0.9530\n",
      "Epoch 22/50\n",
      "766/766 [==============================] - 1s 786us/step - loss: 0.1430 - accuracy: 0.9413\n",
      "Epoch 23/50\n",
      "766/766 [==============================] - 1s 783us/step - loss: 0.1072 - accuracy: 0.9648\n",
      "Epoch 24/50\n",
      "766/766 [==============================] - 1s 782us/step - loss: 0.1208 - accuracy: 0.9621\n",
      "Epoch 25/50\n",
      "766/766 [==============================] - 1s 796us/step - loss: 0.0872 - accuracy: 0.9674\n",
      "Epoch 26/50\n",
      "766/766 [==============================] - 1s 811us/step - loss: 0.1136 - accuracy: 0.9582\n",
      "Epoch 27/50\n",
      "766/766 [==============================] - 1s 786us/step - loss: 0.0909 - accuracy: 0.9700\n",
      "Epoch 28/50\n",
      "766/766 [==============================] - 1s 798us/step - loss: 0.0648 - accuracy: 0.9830\n",
      "Epoch 29/50\n",
      "766/766 [==============================] - 1s 824us/step - loss: 0.1044 - accuracy: 0.9674\n",
      "Epoch 30/50\n",
      "766/766 [==============================] - 1s 803us/step - loss: 0.0506 - accuracy: 0.9869\n",
      "Epoch 31/50\n",
      "766/766 [==============================] - 1s 813us/step - loss: 0.0655 - accuracy: 0.9752\n",
      "Epoch 32/50\n",
      "766/766 [==============================] - 1s 798us/step - loss: 0.0417 - accuracy: 0.9869\n",
      "Epoch 33/50\n",
      "766/766 [==============================] - 1s 786us/step - loss: 0.0322 - accuracy: 0.9909\n",
      "Epoch 34/50\n",
      "766/766 [==============================] - 1s 799us/step - loss: 0.0238 - accuracy: 0.9961\n",
      "Epoch 35/50\n",
      "766/766 [==============================] - 1s 786us/step - loss: 0.0893 - accuracy: 0.9648\n",
      "Epoch 36/50\n",
      "766/766 [==============================] - 1s 798us/step - loss: 0.1106 - accuracy: 0.9569\n",
      "Epoch 37/50\n",
      "766/766 [==============================] - 1s 786us/step - loss: 0.0177 - accuracy: 1.0000\n",
      "Epoch 38/50\n",
      "766/766 [==============================] - 1s 787us/step - loss: 0.0093 - accuracy: 1.0000\n",
      "Epoch 39/50\n",
      "766/766 [==============================] - 1s 804us/step - loss: 0.0089 - accuracy: 0.9987\n",
      "Epoch 40/50\n",
      "766/766 [==============================] - 1s 782us/step - loss: 0.0443 - accuracy: 0.9869\n",
      "Epoch 41/50\n",
      "766/766 [==============================] - 1s 809us/step - loss: 0.0897 - accuracy: 0.9608\n",
      "Epoch 42/50\n",
      "766/766 [==============================] - 1s 803us/step - loss: 0.0386 - accuracy: 0.9869\n",
      "Epoch 43/50\n",
      "766/766 [==============================] - 1s 798us/step - loss: 0.0441 - accuracy: 0.9817\n",
      "Epoch 44/50\n",
      "766/766 [==============================] - 1s 798us/step - loss: 0.0303 - accuracy: 0.9922\n",
      "Epoch 45/50\n",
      "766/766 [==============================] - 1s 782us/step - loss: 0.0075 - accuracy: 0.9987\n",
      "Epoch 46/50\n",
      "766/766 [==============================] - 1s 803us/step - loss: 0.0042 - accuracy: 1.0000\n",
      "Epoch 47/50\n",
      "766/766 [==============================] - 1s 790us/step - loss: 0.0030 - accuracy: 1.0000\n",
      "Epoch 48/50\n",
      "766/766 [==============================] - 1s 790us/step - loss: 0.0021 - accuracy: 1.0000\n",
      "Epoch 49/50\n",
      "766/766 [==============================] - 1s 798us/step - loss: 0.0022 - accuracy: 1.0000\n",
      "Epoch 50/50\n",
      "766/766 [==============================] - 1s 799us/step - loss: 0.0017 - accuracy: 1.0000\n",
      "\n",
      "######################################################################################\n",
      "\n",
      "Test loss: 0.04398888691018025\n",
      "Test accuracy: 0.9791666865348816\n"
     ]
    }
   ],
   "source": [
    "# Build neural network\n",
    "df_model = models.Sequential()\n",
    "df_model.add(Dense(units=162, kernel_initializer='uniform', activation='relu', input_dim=9))\n",
    "df_model.add(Dense(units=162, kernel_initializer='uniform', activation='relu'))\n",
    "df_model.add(Dense(units=1, kernel_initializer='uniform', activation='sigmoid'))\n",
    "\n",
    "# Compile model\n",
    "df_model.compile(optimizer='adam', loss='binary_crossentropy', metrics=['accuracy'])\n",
    "\n",
    "# Train model\n",
    "df_model.fit(X_train, y_train, batch_size=2, epochs=50)\n",
    "\n",
    "print('\\n######################################################################################\\n')\n",
    "val_loss, val_acc = df_model.evaluate(X_test, y_test, verbose=0)\n",
    "print(f'Test loss: {val_loss}')\n",
    "print(f'Test accuracy: {val_acc}')\n",
    "\n",
    "df_model.save('tic-tac-toe.model')"
   ]
  },
  {
   "cell_type": "markdown",
   "metadata": {},
   "source": [
    "## Step 3: Make Predictions\n",
    "\n",
    "Now load your saved model and use it to make predictions on a few random rows in the test dataset. Check if the predictions are correct."
   ]
  },
  {
   "cell_type": "code",
   "execution_count": 13,
   "metadata": {},
   "outputs": [],
   "source": [
    "new_model = models.load_model('tic-tac-toe.model')"
   ]
  },
  {
   "cell_type": "code",
   "execution_count": 23,
   "metadata": {},
   "outputs": [
    {
     "name": "stdout",
     "output_type": "stream",
     "text": [
      "The actual is : [0] and the predicted is [7.006526e-05]\n",
      "The actual is : [1] and the predicted is [0.9997225]\n",
      "The actual is : [0] and the predicted is [0.]\n",
      "The actual is : [1] and the predicted is [1.]\n",
      "The actual is : [1] and the predicted is [0.99999905]\n",
      "The actual is : [1] and the predicted is [0.9994042]\n",
      "The actual is : [1] and the predicted is [0.99066854]\n",
      "The actual is : [1] and the predicted is [0.9999356]\n",
      "The actual is : [1] and the predicted is [0.9997655]\n",
      "The actual is : [0] and the predicted is [4.631281e-05]\n",
      "The actual is : [0] and the predicted is [0.00236428]\n",
      "The actual is : [1] and the predicted is [0.9976363]\n",
      "The actual is : [0] and the predicted is [0.27324885]\n",
      "The actual is : [0] and the predicted is [0.6535303]\n",
      "The actual is : [0] and the predicted is [9.88245e-05]\n",
      "The actual is : [1] and the predicted is [0.9998776]\n",
      "The actual is : [0] and the predicted is [0.27589187]\n",
      "The actual is : [1] and the predicted is [0.99997973]\n",
      "The actual is : [0] and the predicted is [4.543724e-05]\n",
      "The actual is : [1] and the predicted is [0.9999827]\n"
     ]
    }
   ],
   "source": [
    "y_pred = new_model.predict(X_test[30:50])\n",
    "\n",
    "for i, j in zip(y_test[30:50].values, y_pred):\n",
    "    print(f\"The actual is : {i} and the predicted is {j}\")"
   ]
  },
  {
   "cell_type": "markdown",
   "metadata": {},
   "source": [
    "### From the above print out function we can clearly see that the predected values are equal to the actual values and that only one out of 20 values was predicted wrongly (actual = 0 / predicted = 0.6535), which proves that the accuracy of our model is 95% or in the case of the test, the accuracy was 97.9%."
   ]
  },
  {
   "cell_type": "markdown",
   "metadata": {},
   "source": [
    "## Step 4: Improve Your Model\n",
    "\n",
    "Did your model achieve low loss (<0.1) and high accuracy (>0.95)? If not, try to improve your model.\n",
    "\n",
    "But how? There are so many things you can play with in Tensorflow and in the next challenge you'll learn about these things. But in this challenge, let's just do a few things to see if they will help.\n",
    "\n",
    "* Add more layers to your model. If the data are complex you need more layers. But don't use more layers than you need. If adding more layers does not improve the model performance you don't need additional layers.\n",
    "* Adjust the learning rate when you compile the model. This means you will create a custom `tf.keras.optimizers.Adam` instance where you specify the learning rate you want. Then pass the instance to `model.compile` as the optimizer.\n",
    "    * `tf.keras.optimizers.Adam` [reference](https://www.tensorflow.org/api_docs/python/tf/keras/optimizers/Adam).\n",
    "    * Don't worry if you don't understand what the learning rate does. You'll learn about it in the next challenge.\n",
    "* Adjust the number of epochs when you fit the training data to the model. Your model performance continues to improve as you train more epochs. But eventually it will reach the ceiling and the performance will stay the same."
   ]
  },
  {
   "cell_type": "markdown",
   "metadata": {},
   "source": [
    "### I tried adding layers and changing the parameters till I reached the optimal model in the cell above.\n",
    "- I first tried to increase the number of units.\n",
    "- I added two layers instead to two.\n",
    "- I changed 'sparse_categorical_crossentropy' to 'binary_crossentropy'\n",
    "- I kept changing the patch size from 20 to 2, till finally I got high accuracy with batch_size=2\n",
    "- I also kept changing the number of epochs and started from 10 to 100 but noticed that with 100, I was over fitting the model and at the end I got a high accuracy with epochs=50."
   ]
  },
  {
   "cell_type": "markdown",
   "metadata": {},
   "source": [
    "**Which approach(es) did you find helpful to improve your model performance?**"
   ]
  },
  {
   "cell_type": "code",
   "execution_count": 16,
   "metadata": {},
   "outputs": [],
   "source": [
    "# your answer here"
   ]
  }
 ],
 "metadata": {
  "kernelspec": {
   "display_name": "Python 3",
   "language": "python",
   "name": "python3"
  },
  "language_info": {
   "codemirror_mode": {
    "name": "ipython",
    "version": 3
   },
   "file_extension": ".py",
   "mimetype": "text/x-python",
   "name": "python",
   "nbconvert_exporter": "python",
   "pygments_lexer": "ipython3",
   "version": "3.7.3"
  }
 },
 "nbformat": 4,
 "nbformat_minor": 2
}
